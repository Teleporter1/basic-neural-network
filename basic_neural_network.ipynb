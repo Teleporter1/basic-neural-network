{
 "cells": [
  {
   "cell_type": "code",
   "execution_count": 1,
   "metadata": {
    "collapsed": true
   },
   "outputs": [],
   "source": [
    "import numpy as np"
   ]
  },
  {
   "cell_type": "markdown",
   "metadata": {},
   "source": [
    "Define Activation function"
   ]
  },
  {
   "cell_type": "code",
   "execution_count": 2,
   "metadata": {
    "collapsed": true
   },
   "outputs": [],
   "source": [
    "def g(x):\n",
    "    return np.tanh(x)"
   ]
  },
  {
   "cell_type": "code",
   "execution_count": 3,
   "metadata": {
    "collapsed": true
   },
   "outputs": [],
   "source": [
    "def gprime(x):\n",
    "    return 1.0 - g(x)**2"
   ]
  },
  {
   "cell_type": "code",
   "execution_count": 11,
   "metadata": {
    "collapsed": true
   },
   "outputs": [],
   "source": [
    "class NeuralNetwork:\n",
    "    def __init__(self, L, alpha):\n",
    "\n",
    "        self.L = L\n",
    "        self.L[0] += 1\n",
    "        self.nL = len(self.L)\n",
    "        self.alpha = alpha\n",
    "\n",
    "        # initialize weight\n",
    "        self.W = []\n",
    "        for l in range(1, self.nL):\n",
    "            w = np.random.uniform(high=0.25, low=-0.25, size=(self.L[l - 1], self.L[l]))\n",
    "            self.W.append(w)\n",
    "\n",
    "        # initialize activity\n",
    "        self.a = []\n",
    "        for l in range(0, self.nL):\n",
    "            tmp = np.ones(self.L[l])\n",
    "            self.a.append(tmp)\n",
    "\n",
    "        # initialize z\n",
    "        self.z = []\n",
    "        for l in range(0, self.nL):\n",
    "            tmp = np.zeros(self.L[l])\n",
    "            self.z.append(tmp)\n",
    "\n",
    "        # initialize deltas\n",
    "        self.deltas = []\n",
    "        for l in range(self.nL-1):\n",
    "            tmp = np.zeros(self.L[l])\n",
    "            self.deltas.append(tmp)\n",
    "\n",
    "    def forward_propagate(self, x):\n",
    "\n",
    "        x = np.atleast_2d(x)\n",
    "        tmp = np.ones((x.shape[0], 1))\n",
    "        x = np.hstack((x, tmp))\n",
    "        self.a[0] = x\n",
    "\n",
    "        for l in range(self.nL-1):\n",
    "            self.z[l+1] = np.dot(self.a[l], self.W[l])\n",
    "            # call 'g'\n",
    "            self.a[l+1] = g(self.z[l+1])\n",
    "        return self.a[-1]\n",
    "    \n",
    "    def back_propagate(self, x, y):\n",
    "        # call 'forward_propagate'\n",
    "        self.forward_propagate(x)\n",
    "\n",
    "        error = y - self.a[-1]\n",
    "        # call 'gprime'\n",
    "        self.deltas[-1] = np.atleast_2d(error * gprime(self.z[-1]))\n",
    "\n",
    "        for l in range(self.nL - 2, 0, -1):\n",
    "            # call 'gprime'\n",
    "            self.deltas[l-1] = np.dot(self.deltas[l], self.W[l].T)*gprime(self.z[l])\n",
    "\n",
    "        for l in range(self.nL-1):\n",
    "            self.W[l] += self.alpha * np.dot(self.a[l].T, self.deltas[l])\n",
    "\n",
    "    def train(self, x, y, epochs=5000, c=0):\n",
    "         # check if dimension of x is correct\n",
    "        if x.shape[1] != self.L[0] - 1:\n",
    "            raise ValueError('x has wrong dimension')\n",
    "\n",
    "        for iter in range(1, epochs):\n",
    "\n",
    "            for s in range(x.shape[0]):\n",
    "                # call 'back_propagate'\n",
    "                self.back_propagate(x[s], y[s])\n",
    "\n",
    "            if c:\n",
    "                if iter % 100 == 0:\n",
    "                    # call 'classify'\n",
    "                    print('iter {}: accuracy {}'.format(iter, self.classify(x, y)))\n",
    "\n",
    "    def classify(self, x, y):\n",
    "        correct = 0\n",
    "        for s in range(x.shape[0]):\n",
    "            # call 'forward_propagate'\n",
    "            self.forward_propagate(x[s])\n",
    "            if self.a[-1] > 0:\n",
    "                c = 1.0\n",
    "            else:\n",
    "                c = -1.0\n",
    "            if c == y[s]:\n",
    "                correct += 1\n",
    "        return correct/x.shape[0]"
   ]
  },
  {
   "cell_type": "code",
   "execution_count": 9,
   "metadata": {},
   "outputs": [
    {
     "name": "stdout",
     "output_type": "stream",
     "text": [
      "iter 100: accuracy 0.36\n",
      "iter 200: accuracy 0.36\n",
      "iter 300: accuracy 0.68\n",
      "iter 400: accuracy 0.92\n",
      "iter 500: accuracy 0.92\n",
      "iter 600: accuracy 1.0\n",
      "iter 700: accuracy 1.0\n",
      "iter 800: accuracy 1.0\n",
      "iter 900: accuracy 1.0\n",
      "testing accuracy: 0.96\n"
     ]
    }
   ],
   "source": [
    "# call 'NeuralNetwork'\n",
    "nn = NeuralNetwork([2, 5, 1], 0.01)\n",
    "data = np.loadtxt('train1.txt')\n",
    "x = []\n",
    "y = []\n",
    "for i in range(data.shape[0]):\n",
    "    x.append([data[i, 0], data[i, 1]])\n",
    "    y.append(data[i, 2])\n",
    "x = np.array(x)\n",
    "y = np.array(y)\n",
    "# call 'train'\n",
    "nn.train(x, y, epochs=1000, c=1)\n",
    "\n",
    "data = np.loadtxt('test1.txt')\n",
    "x = []\n",
    "y = []\n",
    "for i in range(data.shape[0]):\n",
    "    x.append([data[i, 0], data[i, 1]])\n",
    "    y.append(data[i, 2])\n",
    "x = np.array(x)\n",
    "y = np.array(y)\n",
    "# call 'classify'\n",
    "print('testing accuracy: {}'.format(nn.classify(x, y)))"
   ]
  },
  {
   "cell_type": "code",
   "execution_count": null,
   "metadata": {
    "collapsed": true
   },
   "outputs": [],
   "source": []
  }
 ],
 "metadata": {
  "kernelspec": {
   "display_name": "Python 3",
   "language": "python",
   "name": "python3"
  },
  "language_info": {
   "codemirror_mode": {
    "name": "ipython",
    "version": 3
   },
   "file_extension": ".py",
   "mimetype": "text/x-python",
   "name": "python",
   "nbconvert_exporter": "python",
   "pygments_lexer": "ipython3",
   "version": "3.5.3"
  }
 },
 "nbformat": 4,
 "nbformat_minor": 2
}
